{
 "cells": [
  {
   "cell_type": "code",
   "execution_count": 1,
   "metadata": {},
   "outputs": [
    {
     "name": "stderr",
     "output_type": "stream",
     "text": [
      "Using TensorFlow backend.\n"
     ]
    }
   ],
   "source": [
    "# Used to plot data\n",
    "import numpy as np\n",
    "import matplotlib.pyplot as plt\n",
    "\n",
    "# Used to create the Neural network\n",
    "import keras as kr\n",
    "import gzip"
   ]
  },
  {
   "cell_type": "code",
   "execution_count": 3,
   "metadata": {},
   "outputs": [
    {
     "name": "stdout",
     "output_type": "stream",
     "text": [
      "One hot vector at index 5 of training labels  [0. 0. 1. 0. 0. 0. 0. 0. 0. 0.]\n"
     ]
    }
   ],
   "source": [
    "# Importing the mnist dataset\n",
    "# Dataset used by the neural network\n",
    "(train_img, train_lbl), (test_img, test_lbl) = kr.datasets.mnist.load_data()\n",
    "\n",
    "# Reshaping the data using normalisation\n",
    "# Original data is [0-255]. Scale it to range [0,1].\n",
    "train_img = train_img.reshape(60000, 784)\n",
    "test_img = test_img.reshape(10000, 784)\n",
    "\n",
    "train_img = train_img.astype('float32')\n",
    "test_img = test_img.astype('float32')\n",
    "\n",
    "train_img = train_img/255\n",
    "test_img = test_img/255 \n",
    "\n",
    "# mnist dataset contains 10 different digits\n",
    "digits= 10\n",
    "\n",
    "# Passed the labels to one hot vecotrs with a vector size of 10\n",
    "train_lbl = kr.utils.np_utils.to_categorical(train_lbl, digits)\n",
    "test_lbl = kr.utils.np_utils.to_categorical(test_lbl, digits)\n",
    "\n",
    "print(\"One hot vector at index 5 of training labels \", train_lbl[5])"
   ]
  },
  {
   "cell_type": "code",
   "execution_count": 4,
   "metadata": {},
   "outputs": [
    {
     "data": {
      "image/png": "[encoded data removed]",
      "text/plain": [
       "<Figure size 1440x720 with 50 Axes>"
      ]
     },
     "metadata": {},
     "output_type": "display_data"
    }
   ],
   "source": [
    "# Plotting examples of the data in the set\n",
    "plt.figure(1, figsize=(20,10))\n",
    "\n",
    "# For loop that will iterate 50 times to display the first 50 images in the dataset\n",
    "for i in range(50):\n",
    "    plt.subplot(1,50,i+1)\n",
    "    \n",
    "    #shows the relevant image\n",
    "    plt.imshow(train_img[i].reshape(28,28), cmap='gray', interpolation='nearest')\n",
    "    \n",
    "    # Removing label markings from both the x and y axis'\n",
    "    plt.xticks([])\n",
    "    plt.yticks([])"
   ]
  },
  {
   "cell_type": "code",
   "execution_count": 5,
   "metadata": {},
   "outputs": [
    {
     "name": "stdout",
     "output_type": "stream",
     "text": [
      "Sequential model created\n",
      "Layers added to model\n"
     ]
    }
   ],
   "source": [
    "# Creating the neural netwrok by using the models import from keras\n",
    "model = kr.models.Sequential()\n",
    "\n",
    "print(\"Sequential model created\")\n",
    "\n",
    "# Creating the layers of the netwrok using the Dense call from the layers import\n",
    "# Creating 3 dense layers\n",
    "model.add(kr.layers.Dense(512, activation='relu', input_shape=(784,))) # Use input_shape=(28,28) for unflattened data.\n",
    "model.add(kr.layers.Dense(512, activation='relu'))\n",
    "model.add(kr.layers.Dense(10, activation='softmax'))\n",
    "\n",
    "print(\"Layers added to model\")"
   ]
  },
  {
   "cell_type": "code",
   "execution_count": 6,
   "metadata": {},
   "outputs": [
    {
     "name": "stdout",
     "output_type": "stream",
     "text": [
      "Model Summary\n",
      "Model: \"sequential_1\"\n",
      "_________________________________________________________________\n",
      "Layer (type)                 Output Shape              Param #   \n",
      "=================================================================\n",
      "dense_1 (Dense)              (None, 512)               401920    \n",
      "_________________________________________________________________\n",
      "dense_2 (Dense)              (None, 512)               262656    \n",
      "_________________________________________________________________\n",
      "dense_3 (Dense)              (None, 10)                5130      \n",
      "=================================================================\n",
      "Total params: 669,706\n",
      "Trainable params: 669,706\n",
      "Non-trainable params: 0\n",
      "_________________________________________________________________\n"
     ]
    }
   ],
   "source": [
    "# Prints out a string summary of the model\n",
    "print(\"Model Summary\")\n",
    "model.summary()"
   ]
  },
  {
   "cell_type": "code",
   "execution_count": 7,
   "metadata": {},
   "outputs": [
    {
     "name": "stdout",
     "output_type": "stream",
     "text": [
      "Model compiled\n"
     ]
    }
   ],
   "source": [
    "# Compiles and completes the model\n",
    "model.compile(loss='categorical_crossentropy', optimizer='adam', metrics=['accuracy'])\n",
    "print(\"Model compiled\")"
   ]
  },
  {
   "cell_type": "code",
   "execution_count": 8,
   "metadata": {},
   "outputs": [
    {
     "name": "stdout",
     "output_type": "stream",
     "text": [
      "WARNING:tensorflow:From C:\\Users\\Administrator\\Anaconda3\\lib\\site-packages\\keras\\backend\\tensorflow_backend.py:422: The name tf.global_variables is deprecated. Please use tf.compat.v1.global_variables instead.\n",
      "\n",
      "Train on 60000 samples, validate on 10000 samples\n",
      "Epoch 1/5\n",
      "60000/60000 [==============================] - 22s 374us/step - loss: 0.1862 - accuracy: 0.9436 - val_loss: 0.1173 - val_accuracy: 0.9632\n",
      "Epoch 2/5\n",
      "60000/60000 [==============================] - 20s 342us/step - loss: 0.0792 - accuracy: 0.9750 - val_loss: 0.0787 - val_accuracy: 0.9769\n",
      "Epoch 3/5\n",
      "60000/60000 [==============================] - 20s 339us/step - loss: 0.0521 - accuracy: 0.9836 - val_loss: 0.0856 - val_accuracy: 0.9728\n",
      "Epoch 4/5\n",
      "60000/60000 [==============================] - 21s 346us/step - loss: 0.0411 - accuracy: 0.9866 - val_loss: 0.0732 - val_accuracy: 0.9801\n",
      "Epoch 5/5\n",
      "60000/60000 [==============================] - 21s 355us/step - loss: 0.0315 - accuracy: 0.9897 - val_loss: 0.0639 - val_accuracy: 0.9815\n"
     ]
    }
   ],
   "source": [
    "# Batch size is number of samples that will be testsed\n",
    "# Epochs is the amount of times the test is repeated\n",
    "history = model.fit(train_img, train_lbl, batch_size=50, epochs=5, verbose=1, validation_data=(test_img, test_lbl))\n",
    "\n",
    "#Testing with more than 10 epochs pushes model too far to 100% accuracy"
   ]
  },
  {
   "cell_type": "code",
   "execution_count": 9,
   "metadata": {},
   "outputs": [
    {
     "name": "stdout",
     "output_type": "stream",
     "text": [
      "Test cross-entropy loss: 0.016770932\n",
      "Test accuracy: 0.995050013\n"
     ]
    }
   ],
   "source": [
    "# Calculates and displays the loss and accuracy of the model\n",
    "score = model.evaluate(train_img, train_lbl, verbose=0)\n",
    "print('Test cross-entropy loss: %0.9f' % score[0])\n",
    "print('Test accuracy: %0.9f' % score[1])"
   ]
  },
  {
   "cell_type": "code",
   "execution_count": 10,
   "metadata": {},
   "outputs": [
    {
     "data": {
      "text/plain": [
       "<matplotlib.legend.Legend at 0x2065886ddd8>"
      ]
     },
     "execution_count": 10,
     "metadata": {},
     "output_type": "execute_result"
    },
    {
     "data": {
      "image/png": "[encoded data removed]",
      "text/plain": [
       "<Figure size 1008x360 with 2 Axes>"
      ]
     },
     "metadata": {
      "needs_background": "light"
     },
     "output_type": "display_data"
    }
   ],
   "source": [
    "# Plotting the loss trajectory during training\n",
    "plt.figure(1, figsize=(14,5))\n",
    "plt.subplot(1,2,1)\n",
    "plt.plot(history.history['loss'], label='train')\n",
    "plt.plot(history.history['val_loss'], label='valid')\n",
    "plt.xlabel('Epoch')\n",
    "plt.ylabel('Cross-Entropy Loss')\n",
    "plt.legend()\n",
    "\n",
    "# Plotting the accuracy during training\n",
    "plt.subplot(1,2,2)\n",
    "plt.plot(history.history['accuracy'], label='train')\n",
    "plt.plot(history.history['val_accuracy'], label='valid')\n",
    "plt.xlabel('Epoch')\n",
    "plt.ylabel('Accuracy')\n",
    "plt.legend()"
   ]
  },
  {
   "cell_type": "code",
   "execution_count": 11,
   "metadata": {},
   "outputs": [
    {
     "name": "stdout",
     "output_type": "stream",
     "text": [
      "Saving Model......\n",
      "Model Saved.\n"
     ]
    }
   ],
   "source": [
    "print(\"Saving Model......\")\n",
    "model.save('DigitRec.h5')\n",
    "print(\"Model Saved.\")"
   ]
  },
  {
   "cell_type": "code",
   "execution_count": 12,
   "metadata": {},
   "outputs": [
    {
     "name": "stdout",
     "output_type": "stream",
     "text": [
      "Loading Model......\n",
      "Model loaded.\n"
     ]
    }
   ],
   "source": [
    "#Loading the saved Model\n",
    "print(\"Loading Model......\")\n",
    "loadedModel = kr.models.load_model('DigitRec.h5')\n",
    "print(\"Model loaded.\")"
   ]
  },
  {
   "cell_type": "code",
   "execution_count": 13,
   "metadata": {},
   "outputs": [
    {
     "data": {
      "image/png": "[encoded data removed]",
      "text/plain": [
       "<Figure size 432x288 with 1 Axes>"
      ]
     },
     "metadata": {
      "needs_background": "light"
     },
     "output_type": "display_data"
    },
    {
     "name": "stdout",
     "output_type": "stream",
     "text": [
      "[[3.6435763e-06 2.6911176e-10 5.1939599e-09 1.2654782e-09 6.2562897e-08\n",
      "  6.5603636e-08 9.9999619e-01 6.8946832e-10 5.0439649e-08 2.0375057e-09]] \n",
      "Predicted number:  6\n"
     ]
    }
   ],
   "source": [
    "# Plots the image that will be passed for prediction\n",
    "plt.imshow(test_img[100].reshape(28, 28), cmap=\"gray\")\n",
    "plt.show()\n",
    "\n",
    "# Returns normalized output for each digit and also uses argmax to return the actual prediction\n",
    "print(loadedModel.predict(test_img[100:101]), \"\\nPredicted number: \", np.argmax(loadedModel.predict(test_img[100:101])))"
   ]
  },
  {
   "cell_type": "code",
   "execution_count": null,
   "metadata": {},
   "outputs": [],
   "source": []
  }
 ],
 "metadata": {
  "kernelspec": {
   "display_name": "Python 3",
   "language": "python",
   "name": "python3"
  },
  "language_info": {
   "codemirror_mode": {
    "name": "ipython",
    "version": 3
   },
   "file_extension": ".py",
   "mimetype": "text/x-python",
   "name": "python",
   "nbconvert_exporter": "python",
   "pygments_lexer": "ipython3",
   "version": "3.7.3"
  }
 },
 "nbformat": 4,
 "nbformat_minor": 2
}
